{
 "cells": [
  {
   "cell_type": "markdown",
   "metadata": {
    "id": "MZjBN_HdrL3w"
   },
   "source": [
    "##**Use sympy to solve the following questions**\n",
    "**1. Solve the quadratic function $x^2+2x-8=0$**"
   ]
  },
  {
   "cell_type": "code",
   "execution_count": 58,
   "metadata": {
    "id": "deEemH-qrnCG"
   },
   "outputs": [
    {
     "name": "stdout",
     "output_type": "stream",
     "text": [
      "Solutions of the quadratic equation are as following\n",
      "-4\n",
      "2\n"
     ]
    }
   ],
   "source": [
    "\n",
    "from sympy import symbols, solve\n",
    "\n",
    "# Defining the symbols\n",
    "x = symbols('x')\n",
    "\n",
    "# The quadratic equation\n",
    "equation = x**2 + 2*x - 8\n",
    "\n",
    "# Solving the quadratic equation\n",
    "solutions = solve(equation, x)\n",
    "\n",
    "# Solutions of the quadratic equation\n",
    "print(\"Solutions of the quadratic equation are as following\")\n",
    "for solution in solutions:\n",
    "    print(solution)\n"
   ]
  },
  {
   "cell_type": "markdown",
   "metadata": {
    "id": "osWHgKk5t9MA"
   },
   "source": [
    "**2. What is the function f(x) which is equal to its\n",
    "derivative?**"
   ]
  },
  {
   "cell_type": "code",
   "execution_count": 59,
   "metadata": {
    "id": "MR8ijByJroeV"
   },
   "outputs": [
    {
     "name": "stdout",
     "output_type": "stream",
     "text": [
      "The function f(x) which is equal to its derivative is:\n",
      "Eq(f(x), C1*exp(x))\n"
     ]
    }
   ],
   "source": [
    "from sympy import symbols, Function, Eq, exp, dsolve\n",
    "\n",
    "#  Representing the symbols\n",
    "x = symbols('x')\n",
    "\n",
    "f = Function('f')(x)\n",
    "\n",
    "#Defining  the differential equation\n",
    "equation = Eq(f.diff(x), f)\n",
    "\n",
    "# To Solve the differential equation\n",
    "solution = dsolve(equation, f)\n",
    "\n",
    "#  Print the result\n",
    "print(\"The function f(x) which is equal to its derivative is:\")\n",
    "print(solution)\n"
   ]
  },
  {
   "cell_type": "markdown",
   "metadata": {
    "id": "P2b7XyAD5qf1"
   },
   "source": [
    "**3. Compute the area under $f(x)=x^3$ from x=0 to x=1**"
   ]
  },
  {
   "cell_type": "code",
   "execution_count": 60,
   "metadata": {
    "id": "W1MNf_ptrqOK",
    "scrolled": true
   },
   "outputs": [
    {
     "name": "stdout",
     "output_type": "stream",
     "text": [
      "The area under the curve f(x) = x^3 from x = 0 to x = 1 is 0.250000000000000\n"
     ]
    }
   ],
   "source": [
    "from sympy import symbols, integrate\n",
    "\n",
    "# Representing the symbols\n",
    "x = symbols('x')\n",
    "\n",
    "f = x**3\n",
    "\n",
    "# To integrate the function\n",
    "integral = integrate(f, (x, 0, 1))\n",
    "\n",
    "# Evaluating the integral\n",
    "area = integral.evalf()\n",
    "\n",
    "# Print the output\n",
    "print(\"The area under the curve f(x) = x^3 from x = 0 to x = 1 is\", area)"
   ]
  },
  {
   "cell_type": "markdown",
   "metadata": {
    "id": "X0WDytOW_0Ds"
   },
   "source": [
    "**4. Calculate $\\displaystyle\\sum\\limits_{x=0}^\\infty \\left(\\frac{1}{x!}\\right)$**"
   ]
  },
  {
   "cell_type": "code",
   "execution_count": 61,
   "metadata": {
    "id": "9j3BL9Tbrrhw"
   },
   "outputs": [
    {
     "name": "stdout",
     "output_type": "stream",
     "text": [
      "E\n"
     ]
    }
   ],
   "source": [
    "from sympy import Symbol, Sum, factorial, oo\n",
    "# oo is consisered as positive infinite quantity\n",
    "# Define the symbol and the series\n",
    "x = Symbol('x')\n",
    "series_exp = Sum(1/factorial(x), (x, 0, oo))\n",
    "\n",
    "# Compute the sum\n",
    "sum_value = series_exp.doit()\n",
    "\n",
    "# Print the sum of infinite term\n",
    "print(sum_value)\n"
   ]
  },
  {
   "cell_type": "markdown",
   "metadata": {
    "id": "GX1ZPTnTCtrV"
   },
   "source": [
    "**5. Calculate $\\lim_{n \\rightarrow \\infty}(1+\\frac{1}{n})^n$**"
   ]
  },
  {
   "cell_type": "code",
   "execution_count": 62,
   "metadata": {
    "id": "9RuIX--BrwG_"
   },
   "outputs": [
    {
     "name": "stdout",
     "output_type": "stream",
     "text": [
      "The limit of (1 + 1/n)^n where n approaches infinity is approximately: E\n"
     ]
    }
   ],
   "source": [
    "from sympy import symbols, limit, oo\n",
    "\n",
    "\n",
    "n = symbols('n')\n",
    "\n",
    "# Calculating the limit\n",
    "expression = (1 + 1/n)**n\n",
    "lim_value = limit(expression, n, oo)\n",
    "# Print the result\n",
    "print(\"The limit of (1 + 1/n)^n where n approaches infinity is approximately:\", lim_value)\n"
   ]
  },
  {
   "cell_type": "markdown",
   "metadata": {
    "id": "PJ_WIHAZE9P2"
   },
   "source": [
    "**6. flips the matrix through its diagonal $\\begin{bmatrix}2&-3&-8&7 \\\\-2&-1&2&-7\\\\ 1&0&-3&6 \\end{bmatrix}$**"
   ]
  },
  {
   "cell_type": "code",
   "execution_count": 63,
   "metadata": {
    "id": "DjIgeasrrw1d"
   },
   "outputs": [
    {
     "name": "stdout",
     "output_type": "stream",
     "text": [
      "Flipped matrix :\n",
      "Matrix([[2, -2, 1], [-3, -1, 0], [-8, 2, -3], [7, -7, 6]])\n"
     ]
    }
   ],
   "source": [
    "from sympy import Matrix\n",
    "\n",
    "\n",
    "matrix = Matrix([[2, -3, -8, 7],\n",
    "                 [-2, -1, 2, -7],\n",
    "                 [1, 0, -3, 6]])\n",
    "\n",
    "#  To Flip the matrix through its diagonal using transpose\n",
    "flip_matrix = matrix.transpose()\n",
    "\n",
    "# Print the flipped matrix\n",
    "print(\"Flipped matrix :\")\n",
    "print(flip_matrix)\n"
   ]
  },
  {
   "cell_type": "markdown",
   "metadata": {
    "id": "rLTC_3INOPdj"
   },
   "source": [
    "**7. Row operations: We know the following matrix**"
   ]
  },
  {
   "cell_type": "code",
   "execution_count": null,
   "metadata": {
    "colab": {
     "base_uri": "https://localhost:8080/",
     "height": 78
    },
    "id": "iWzjfQn0Ox_a",
    "outputId": "9a591e92-6369-4a7a-ddde-f4b3748e88b2"
   },
   "outputs": [
    {
     "data": {
      "text/latex": [
       "$\\displaystyle \\left[\\begin{matrix}1 & 0 & 0\\\\0 & 1 & 0\\\\0 & 0 & 1\\end{matrix}\\right]$"
      ],
      "text/plain": [
       "Matrix([\n",
       "[1, 0, 0],\n",
       "[0, 1, 0],\n",
       "[0, 0, 1]])"
      ]
     },
     "execution_count": 2,
     "metadata": {},
     "output_type": "execute_result"
    }
   ],
   "source": [
    " M = eye(3)\n",
    " M"
   ]
  },
  {
   "cell_type": "markdown",
   "metadata": {
    "id": "v8pI_LiDjkBj"
   },
   "source": [
    "**Do matrix row operations to R2 ← R2 + 3R1. (update Row 2 to R2+3*R1). Print the matrix**"
   ]
  },
  {
   "cell_type": "code",
   "execution_count": 64,
   "metadata": {
    "id": "WpVLzCfHrzd5"
   },
   "outputs": [
    {
     "name": "stdout",
     "output_type": "stream",
     "text": [
      "Matrix([[1, 0, 0], [3, 1, 0], [0, 0, 1]])\n"
     ]
    }
   ],
   "source": [
    "from sympy import eye\n",
    "\n",
    "# Creating the matrix\n",
    "M = eye(3)\n",
    "\n",
    "# To Perform the row operation: R2 ← R2 + 3R1\n",
    "M[1, :] = M[1, :] + 3 * M[0, :]\n",
    "\n",
    "# Print  updated matrix\n",
    "print(M)\n"
   ]
  },
  {
   "cell_type": "markdown",
   "metadata": {
    "id": "lStKMbpWkZky"
   },
   "source": [
    "**8.Find determinant of M**"
   ]
  },
  {
   "cell_type": "code",
   "execution_count": 65,
   "metadata": {
    "id": "klYDCja9r1N3"
   },
   "outputs": [
    {
     "name": "stdout",
     "output_type": "stream",
     "text": [
      "Determinant of M: 1\n"
     ]
    }
   ],
   "source": [
    "from sympy import symbols, Matrix\n",
    "\n",
    "\n",
    "x = symbols('x')\n",
    "\n",
    "M = Matrix([[1, 0, 0], # updated matrix result from question 7.\n",
    "            [3, 1, 0],\n",
    "            [0, 0, 1]])\n",
    "\n",
    "# To calculate the determinant\n",
    "determinant_Matrix = M.det()\n",
    "\n",
    "# Print the determinant\n",
    "print(\"Determinant of M:\", determinant_Matrix)\n"
   ]
  },
  {
   "cell_type": "markdown",
   "metadata": {
    "id": "qaXra9fNlSDu"
   },
   "source": [
    "**9.Find the following matrix's eigenvalue and eigen vector**"
   ]
  },
  {
   "cell_type": "code",
   "execution_count": 66,
   "metadata": {
    "id": "W8cpvW7lljCv"
   },
   "outputs": [
    {
     "name": "stdout",
     "output_type": "stream",
     "text": [
      "Eigenvalues:\n",
      "10 (Multiplicity: 1 )\n",
      "5 (Multiplicity: 1 )\n",
      "------------------------------------------\n",
      "\n",
      "Eigenvectors:\n",
      "Eigenvalue: 5\n",
      "Multiplicity: 1\n",
      "Eigenvector(s): [Matrix([\n",
      "[1/2],\n",
      "[  1]])]\n",
      "\n",
      "Eigenvalue: 10\n",
      "Multiplicity: 1\n",
      "Eigenvector(s): [Matrix([\n",
      "[-2],\n",
      "[ 1]])]\n",
      "\n"
     ]
    }
   ],
   "source": [
    "from sympy import Matrix\n",
    "\n",
    "M = Matrix([[9, -2],[-2, 6]])\n",
    "\n",
    "# To compute the eigenvalues\n",
    "eigenvalues = M.eigenvals()\n",
    "\n",
    "# To compute the eigenvectors\n",
    "eigenvectors = M.eigenvects()\n",
    "\n",
    "#  Print the eigenvalues and eigenvectors\n",
    "print(\"Eigenvalues:\")\n",
    "for eigenvalue, multiplicity in eigenvalues.items():\n",
    "    print(eigenvalue, \"(Multiplicity:\", multiplicity, \")\")\n",
    "print(\"------------------------------------------\")\n",
    "\n",
    "print(\"\\nEigenvectors:\")\n",
    "for eigenvector in eigenvectors:\n",
    "    print(\"Eigenvalue:\", eigenvector[0])\n",
    "    print(\"Multiplicity:\", eigenvector[1])\n",
    "    print(\"Eigenvector(s):\", eigenvector[2])\n",
    "    print()\n"
   ]
  },
  {
   "cell_type": "markdown",
   "metadata": {
    "id": "T0NeZ4Hwo1Uy"
   },
   "source": [
    "**10. Implement the Predator-prey model in python**\n",
    "\n",
    "Suppose fish starts at 10 hundreds, bears starts at 1 hundred\n",
    "\n",
    "alpha = 1.1\n",
    "\n",
    "beta = 0.4\n",
    "\n",
    "delta = 0.1\n",
    "\n",
    "gamma = 0.4\n",
    "\n",
    "draw the plots(bear-time, fish-time)\n",
    "\n",
    "t = np.linspace(0,50,num=1000)\n"
   ]
  },
  {
   "cell_type": "code",
   "execution_count": 67,
   "metadata": {},
   "outputs": [
    {
     "data": {
      "image/png": "[encoded data removed]",
      "text/plain": [
       "<Figure size 640x480 with 1 Axes>"
      ]
     },
     "metadata": {},
     "output_type": "display_data"
    }
   ],
   "source": [
    "import numpy as np\n",
    "from scipy.integrate import odeint\n",
    "import matplotlib.pyplot as plt\n",
    "\n",
    "# Representating the Predator-Prey model equations\n",
    "def predator_prey(y, t, alpha, beta, delta, gamma):\n",
    "    fish, bears = y\n",
    "    dfish_dt = alpha * fish - beta * fish * bears\n",
    "    dbears_dt = delta * fish * bears - gamma * bears\n",
    "    return [dfish_dt, dbears_dt]\n",
    "\n",
    "# Providing the initial conditions and parameters\n",
    "fish_initial = 10 # Given fish starts at 10 hundreds, bears starts at 1 hundred\n",
    "bears_initial = 1\n",
    "alpha = 1.1\n",
    "beta = 0.4\n",
    "delta = 0.1\n",
    "gamma = 0.4\n",
    "\n",
    "# Mention the time points\n",
    "t = np.linspace(0, 50, num=1000)\n",
    "\n",
    "# Calculating the Predator-Prey model equations\n",
    "solution = odeint(predator_prey, [fish_initial, bears_initial], t, args=(alpha, beta, delta, gamma))\n",
    "fish_population = solution[:, 0]\n",
    "bears_population = solution[:, 1]\n",
    "\n",
    "# Plot the population dynamics\n",
    "plt.plot(t, fish_population, label='Fish')\n",
    "plt.plot(t, bears_population, label='Bears')\n",
    "plt.xlabel('Time')\n",
    "plt.ylabel('Population')\n",
    "plt.title('Predator-Prey Model')\n",
    "plt.legend()\n",
    "plt.show()\n"
   ]
  },
  {
   "cell_type": "code",
   "execution_count": null,
   "metadata": {},
   "outputs": [],
   "source": []
  },
  {
   "cell_type": "code",
   "execution_count": null,
   "metadata": {},
   "outputs": [],
   "source": []
  }
 ],
 "metadata": {
  "colab": {
   "collapsed_sections": [],
   "name": "homework1.ipynb",
   "provenance": []
  },
  "kernelspec": {
   "display_name": "Python 3 (ipykernel)",
   "language": "python",
   "name": "python3"
  },
  "language_info": {
   "codemirror_mode": {
    "name": "ipython",
    "version": 3
   },
   "file_extension": ".py",
   "mimetype": "text/x-python",
   "name": "python",
   "nbconvert_exporter": "python",
   "pygments_lexer": "ipython3",
   "version": "3.10.9"
  }
 },
 "nbformat": 4,
 "nbformat_minor": 1
}
